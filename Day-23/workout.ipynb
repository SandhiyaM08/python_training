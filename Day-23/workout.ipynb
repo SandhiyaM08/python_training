{
 "cells": [
  {
   "cell_type": "code",
   "execution_count": null,
   "id": "de957197",
   "metadata": {
    "vscode": {
     "languageId": "plaintext"
    }
   },
   "outputs": [],
   "source": [
    "class"
   ]
  }
 ],
 "metadata": {
  "language_info": {
   "name": "python"
  }
 },
 "nbformat": 4,
 "nbformat_minor": 5
}
